{
 "cells": [
  {
   "cell_type": "markdown",
   "id": "068c11f8-1da0-441a-a3b8-623b6ebf3594",
   "metadata": {
    "tags": []
   },
   "source": [
    "# Data Science Tools and Ecosystem\n",
    "In this notebook, Data Science Tools and Ecosystem are summarized."
   ]
  },
  {
   "cell_type": "markdown",
   "id": "a6713c04-0c1c-454f-9b6b-58ec1e823a6b",
   "metadata": {},
   "source": [
    "**Objectives:**\n",
    "- Some of the popular languages that Data Scientists\n",
    "- Some of the commonly used libraries used by Data Scientists\n",
    "- Data Science Tools\n",
    "- evaluating arithmetic expressions in Python\n",
    "- expression to mutiply then add integers\n",
    "- convert 200 minutes to hours by diving by 60"
   ]
  },
  {
   "cell_type": "markdown",
   "id": "59caa88a-f481-4426-bc9a-20a2b291b663",
   "metadata": {},
   "source": [
    "Some of the popular languages that Data Scientists use are:\n",
    "1. Python\n",
    "2. R\n",
    "3. Java"
   ]
  },
  {
   "cell_type": "markdown",
   "id": "ee025f88-4c86-438e-912c-b34f27d542a6",
   "metadata": {},
   "source": [
    "Some of the commonly used libraries used by Data Scientists include:\n",
    "1. Matplotlib\n",
    "2. Scilit\n",
    "3. Pandas"
   ]
  },
  {
   "cell_type": "markdown",
   "id": "55248595-5b38-43d6-a15c-b38ea8195736",
   "metadata": {},
   "source": [
    "| Data Science Tools |\n",
    "|--------------------|\n",
    "| Jupyter notebook |\n",
    "| R studio |\n",
    "| Apache zeppelin |"
   ]
  },
  {
   "cell_type": "markdown",
   "id": "d6451da2-ccaf-4bdb-ad4c-d6fd745e26bc",
   "metadata": {
    "tags": []
   },
   "source": [
    "### Below are a few examples of evaluating arithmetic expressions in Python."
   ]
  },
  {
   "cell_type": "code",
   "execution_count": 1,
   "id": "50cc9cb1-f082-49b1-8d2d-a338288d4de8",
   "metadata": {
    "tags": []
   },
   "outputs": [
    {
     "data": {
      "text/plain": [
       "7"
      ]
     },
     "execution_count": 1,
     "metadata": {},
     "output_type": "execute_result"
    }
   ],
   "source": [
    "3+4"
   ]
  },
  {
   "cell_type": "code",
   "execution_count": 2,
   "id": "c5630beb-d73d-4565-9ade-dcdcd6a2fdb0",
   "metadata": {
    "tags": []
   },
   "outputs": [
    {
     "data": {
      "text/plain": [
       "15"
      ]
     },
     "execution_count": 2,
     "metadata": {},
     "output_type": "execute_result"
    }
   ],
   "source": [
    "3*5"
   ]
  },
  {
   "cell_type": "code",
   "execution_count": 3,
   "id": "e62c77a5-a992-451a-aaed-bd21511db603",
   "metadata": {
    "tags": []
   },
   "outputs": [
    {
     "data": {
      "text/plain": [
       "50"
      ]
     },
     "execution_count": 3,
     "metadata": {},
     "output_type": "execute_result"
    }
   ],
   "source": [
    "56-6"
   ]
  },
  {
   "cell_type": "code",
   "execution_count": 4,
   "id": "a2f23872-23f5-4f5e-9b54-05356c4d8fbc",
   "metadata": {
    "tags": []
   },
   "outputs": [
    {
     "data": {
      "text/plain": [
       "3.0"
      ]
     },
     "execution_count": 4,
     "metadata": {},
     "output_type": "execute_result"
    }
   ],
   "source": [
    "18/6"
   ]
  },
  {
   "cell_type": "code",
   "execution_count": 5,
   "id": "d280232c-8549-409f-b211-f8a7321fd2b1",
   "metadata": {
    "tags": []
   },
   "outputs": [
    {
     "data": {
      "text/plain": [
       "17"
      ]
     },
     "execution_count": 5,
     "metadata": {},
     "output_type": "execute_result"
    }
   ],
   "source": [
    "(3*4)+5 #This a simple arithmetic expression to mutiply then add integers"
   ]
  },
  {
   "cell_type": "code",
   "execution_count": 10,
   "id": "b8a6d57c-3724-44a4-bfcd-50f0f120e894",
   "metadata": {
    "tags": []
   },
   "outputs": [
    {
     "data": {
      "text/plain": [
       "3.33"
      ]
     },
     "execution_count": 10,
     "metadata": {},
     "output_type": "execute_result"
    }
   ],
   "source": [
    "# This will convert 200 minutes to hours by diving by 60\n",
    "min = 200\n",
    "hours = min/60\n",
    "round(hours, 2)"
   ]
  },
  {
   "cell_type": "markdown",
   "id": "7aafce6f-8c4e-4c72-a72d-c1cf3c9d4ff0",
   "metadata": {},
   "source": [
    "## Author:\n",
    "Prathmesh Kushwaha"
   ]
  },
  {
   "cell_type": "code",
   "execution_count": null,
   "id": "39ce4900-9df2-4cbb-971d-5aa21a23d73c",
   "metadata": {},
   "outputs": [],
   "source": []
  }
 ],
 "metadata": {
  "kernelspec": {
   "display_name": "Python",
   "language": "python",
   "name": "conda-env-python-py"
  },
  "language_info": {
   "codemirror_mode": {
    "name": "ipython",
    "version": 3
   },
   "file_extension": ".py",
   "mimetype": "text/x-python",
   "name": "python",
   "nbconvert_exporter": "python",
   "pygments_lexer": "ipython3",
   "version": "3.7.12"
  }
 },
 "nbformat": 4,
 "nbformat_minor": 5
}
